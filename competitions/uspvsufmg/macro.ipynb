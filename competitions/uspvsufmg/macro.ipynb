{
 "cells": [
  {
   "cell_type": "code",
   "execution_count": 1,
   "metadata": {},
   "outputs": [],
   "source": [
    "# basic imports\n",
    "import matplotlib.pyplot as plt\n",
    "import seaborn as sns\n",
    "import pandas as pd\n",
    "import numpy as np\n",
    "from datetime import datetime\n",
    "import time\n",
    "\n",
    "# sklearn\n",
    "# preprocessing, model selection and metrics\n",
    "from sklearn.preprocessing import LabelEncoder, OneHotEncoder\n",
    "from sklearn.model_selection import train_test_split, KFold, cross_val_score, GridSearchCV\n",
    "from sklearn.metrics import mean_squared_error, mean_absolute_error, recall_score, precision_score, roc_auc_score, r2_score\n",
    "\n",
    "# models\n",
    "from sklearn.linear_model import Lasso, Ridge, LogisticRegression\n",
    "from sklearn.ensemble import RandomForestRegressor, AdaBoostRegressor, RandomForestClassifier\n",
    "\n",
    "# visualize importances\n",
    "import shap\n",
    "\n",
    "pd.set_option('max_columns', None)\n",
    "pd.set_option('display.float_format', lambda x: '%.2f' % x)\n",
    "plt.style.use('ggplot')"
   ]
  },
  {
   "cell_type": "code",
   "execution_count": 2,
   "metadata": {},
   "outputs": [],
   "source": [
    "%macro -q import_all_libs 1"
   ]
  },
  {
   "cell_type": "code",
   "execution_count": 3,
   "metadata": {},
   "outputs": [
    {
     "name": "stdout",
     "output_type": "stream",
     "text": [
      "Stored 'import_all_libs' (Macro)\n"
     ]
    }
   ],
   "source": [
    "%store import_all_libs"
   ]
  },
  {
   "cell_type": "code",
   "execution_count": 1,
   "metadata": {},
   "outputs": [],
   "source": [
    "%store -r import_all_libs"
   ]
  },
  {
   "cell_type": "code",
   "execution_count": 2,
   "metadata": {},
   "outputs": [],
   "source": [
    "import_all_libs"
   ]
  },
  {
   "cell_type": "code",
   "execution_count": 3,
   "metadata": {},
   "outputs": [
    {
     "name": "stdout",
     "output_type": "stream",
     "text": [
      "# basic imports\n",
      "import matplotlib.pyplot as plt\n",
      "import seaborn as sns\n",
      "import pandas as pd\n",
      "import numpy as np\n",
      "from datetime import datetime\n",
      "import time\n",
      "\n",
      "# sklearn\n",
      "# preprocessing, model selection and metrics\n",
      "from sklearn.preprocessing import LabelEncoder, OneHotEncoder\n",
      "from sklearn.model_selection import train_test_split, KFold, cross_val_score, GridSearchCV\n",
      "from sklearn.metrics import mean_squared_error, mean_absolute_error, recall_score, precision_score, roc_auc_score, r2_score\n",
      "\n",
      "# models\n",
      "from sklearn.linear_model import Lasso, Ridge, LogisticRegression\n",
      "from sklearn.ensemble import RandomForestRegressor, AdaBoostRegressor, RandomForestClassifier\n",
      "\n",
      "# visualize importances\n",
      "import shap\n",
      "\n",
      "pd.set_option('max_columns', None)\n",
      "pd.set_option('display.float_format', lambda x: '%.2f' % x)\n",
      "plt.style.use('ggplot')\n",
      "\n"
     ]
    }
   ],
   "source": [
    "print(import_all_libs)"
   ]
  }
 ],
 "metadata": {
  "kernelspec": {
   "display_name": "Python 3",
   "language": "python",
   "name": "python3"
  },
  "language_info": {
   "codemirror_mode": {
    "name": "ipython",
    "version": 3
   },
   "file_extension": ".py",
   "mimetype": "text/x-python",
   "name": "python",
   "nbconvert_exporter": "python",
   "pygments_lexer": "ipython3",
   "version": "3.8.5"
  }
 },
 "nbformat": 4,
 "nbformat_minor": 4
}
