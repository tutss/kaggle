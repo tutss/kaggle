{
 "cells": [
  {
   "cell_type": "code",
   "execution_count": 1,
   "metadata": {},
   "outputs": [],
   "source": [
    "%store -r import_all_libs"
   ]
  },
  {
   "cell_type": "code",
   "execution_count": 2,
   "metadata": {},
   "outputs": [],
   "source": [
    "import_all_libs"
   ]
  },
  {
   "cell_type": "code",
   "execution_count": 3,
   "metadata": {},
   "outputs": [],
   "source": [
    "import gc"
   ]
  },
  {
   "cell_type": "code",
   "execution_count": 4,
   "metadata": {},
   "outputs": [],
   "source": [
    "dtype = {\n",
    "    'user_id': 'int32',\n",
    "    'event_info': 'object',\n",
    "    'event_time': 'object',\n",
    "    'event_type': 'object',\n",
    "    'item_bought': 'int32',\n",
    "}"
   ]
  },
  {
   "cell_type": "code",
   "execution_count": 5,
   "metadata": {},
   "outputs": [],
   "source": [
    "data = pd.read_csv('/home/tuts/datasets/meli-challenge-2020/complete_data.csv', dtype=dtype)"
   ]
  },
  {
   "cell_type": "code",
   "execution_count": 6,
   "metadata": {},
   "outputs": [
    {
     "name": "stdout",
     "output_type": "stream",
     "text": [
      "<class 'pandas.core.frame.DataFrame'>\n",
      "RangeIndex: 11999166 entries, 0 to 11999165\n",
      "Data columns (total 5 columns):\n",
      " #   Column       Dtype \n",
      "---  ------       ----- \n",
      " 0   user_id      int32 \n",
      " 1   event_info   object\n",
      " 2   event_time   object\n",
      " 3   event_type   object\n",
      " 4   item_bought  int32 \n",
      "dtypes: int32(2), object(3)\n",
      "memory usage: 366.2+ MB\n"
     ]
    }
   ],
   "source": [
    "data.info()"
   ]
  },
  {
   "cell_type": "code",
   "execution_count": 7,
   "metadata": {},
   "outputs": [],
   "source": [
    "user_1 = data[data.user_id == 1]"
   ]
  },
  {
   "cell_type": "code",
   "execution_count": 8,
   "metadata": {},
   "outputs": [
    {
     "data": {
      "text/plain": [
       "19                   643652\n",
       "20    DESMAMADEIRA ELETRICA\n",
       "21                  1156086\n",
       "22    DESMAMADEIRA ELETRICA\n",
       "23    DESMAMADEIRA ELETRICA\n",
       "24                  1943604\n",
       "25    DESMAMADEIRA ELETRICA\n",
       "26                   206667\n",
       "27    DESMAMADEIRA ELETRICA\n",
       "28                  1282813\n",
       "29                   228737\n",
       "30                   228737\n",
       "31                   228737\n",
       "Name: event_info, dtype: object"
      ]
     },
     "execution_count": 8,
     "metadata": {},
     "output_type": "execute_result"
    }
   ],
   "source": [
    "user_1.event_info"
   ]
  },
  {
   "cell_type": "code",
   "execution_count": 9,
   "metadata": {},
   "outputs": [
    {
     "data": {
      "text/plain": [
       "2449529"
      ]
     },
     "execution_count": 9,
     "metadata": {},
     "output_type": "execute_result"
    }
   ],
   "source": [
    "data.event_info.nunique()"
   ]
  },
  {
   "cell_type": "code",
   "execution_count": 10,
   "metadata": {},
   "outputs": [
    {
     "data": {
      "text/plain": [
       "count   2449529.00\n",
       "mean          4.90\n",
       "std          40.35\n",
       "min           1.00\n",
       "25%           1.00\n",
       "50%           2.00\n",
       "75%           4.00\n",
       "max       20689.00\n",
       "Name: event_info, dtype: float64"
      ]
     },
     "execution_count": 10,
     "metadata": {},
     "output_type": "execute_result"
    }
   ],
   "source": [
    "data.event_info.value_counts().describe()"
   ]
  },
  {
   "cell_type": "code",
   "execution_count": 11,
   "metadata": {},
   "outputs": [
    {
     "name": "stderr",
     "output_type": "stream",
     "text": [
      "Pass the following variable as a keyword arg: x. From version 0.12, the only valid positional argument will be `data`, and passing other arguments without an explicit keyword will result in an error or misinterpretation.\n"
     ]
    },
    {
     "data": {
      "image/png": "[encoded data removed]",
      "text/plain": [
       "<Figure size 432x288 with 1 Axes>"
      ]
     },
     "metadata": {},
     "output_type": "display_data"
    }
   ],
   "source": [
    "sns.boxplot(data.event_info.value_counts().values);"
   ]
  },
  {
   "cell_type": "code",
   "execution_count": 12,
   "metadata": {},
   "outputs": [
    {
     "data": {
      "text/plain": [
       "7221161                                     \\n\\n\n",
       "2984789                                         \n",
       "2984790                                      ,  \n",
       "2525248                                        o\n",
       "2525228                                        o\n",
       "                           ...                  \n",
       "4159040                                ¡phone 7s\n",
       "4159041                                ¡phone 7s\n",
       "8747815         에뛰드하우스 CC 크림 35G SPF 30\n",
       "234913      ​​​​​​​MARKETING PROFISSIONAIS BRUNO\n",
       "3311268    • MOUSE WIRELESS WM126 PRETO DELL FIO\n",
       "Name: event_info, Length: 11999146, dtype: object"
      ]
     },
     "execution_count": 12,
     "metadata": {},
     "output_type": "execute_result"
    }
   ],
   "source": [
    "data.event_info.sort_values()[:-20]"
   ]
  },
  {
   "cell_type": "code",
   "execution_count": 13,
   "metadata": {},
   "outputs": [
    {
     "data": {
      "text/plain": [
       "3162"
      ]
     },
     "execution_count": 13,
     "metadata": {},
     "output_type": "execute_result"
    }
   ],
   "source": [
    "data[data.item_bought == 1748830].event_info.nunique()"
   ]
  },
  {
   "cell_type": "code",
   "execution_count": 14,
   "metadata": {},
   "outputs": [
    {
     "data": {
      "text/plain": [
       "131539    566\n",
       "357550    480\n",
       "101203    473\n",
       "62689     471\n",
       "306847    445\n",
       "         ... \n",
       "95254       1\n",
       "245011      1\n",
       "148333      1\n",
       "246621      1\n",
       "52502       1\n",
       "Name: user_id, Length: 413163, dtype: int64"
      ]
     },
     "execution_count": 14,
     "metadata": {},
     "output_type": "execute_result"
    }
   ],
   "source": [
    "data.user_id.value_counts()"
   ]
  },
  {
   "cell_type": "code",
   "execution_count": 15,
   "metadata": {},
   "outputs": [
    {
     "data": {
      "text/plain": [
       "count   413163.00\n",
       "mean        29.04\n",
       "std         36.28\n",
       "min          1.00\n",
       "25%          5.00\n",
       "50%         16.00\n",
       "75%         39.00\n",
       "max        566.00\n",
       "Name: user_id, dtype: float64"
      ]
     },
     "execution_count": 15,
     "metadata": {},
     "output_type": "execute_result"
    }
   ],
   "source": [
    "data.user_id.value_counts().describe()"
   ]
  },
  {
   "cell_type": "code",
   "execution_count": 16,
   "metadata": {},
   "outputs": [
    {
     "name": "stderr",
     "output_type": "stream",
     "text": [
      "Pass the following variable as a keyword arg: x. From version 0.12, the only valid positional argument will be `data`, and passing other arguments without an explicit keyword will result in an error or misinterpretation.\n"
     ]
    },
    {
     "data": {
      "image/png": "[encoded data removed]",
      "text/plain": [
       "<Figure size 432x288 with 1 Axes>"
      ]
     },
     "metadata": {},
     "output_type": "display_data"
    }
   ],
   "source": [
    "sns.boxplot(data.user_id.value_counts().values);"
   ]
  },
  {
   "cell_type": "code",
   "execution_count": 17,
   "metadata": {},
   "outputs": [
    {
     "data": {
      "text/html": [
       "<div>\n",
       "<style scoped>\n",
       "    .dataframe tbody tr th:only-of-type {\n",
       "        vertical-align: middle;\n",
       "    }\n",
       "\n",
       "    .dataframe tbody tr th {\n",
       "        vertical-align: top;\n",
       "    }\n",
       "\n",
       "    .dataframe thead th {\n",
       "        text-align: right;\n",
       "    }\n",
       "</style>\n",
       "<table border=\"1\" class=\"dataframe\">\n",
       "  <thead>\n",
       "    <tr style=\"text-align: right;\">\n",
       "      <th></th>\n",
       "      <th>user_id</th>\n",
       "      <th>event_info</th>\n",
       "      <th>event_time</th>\n",
       "      <th>item_bought</th>\n",
       "      <th>view</th>\n",
       "    </tr>\n",
       "  </thead>\n",
       "  <tbody>\n",
       "    <tr>\n",
       "      <th>0</th>\n",
       "      <td>0</td>\n",
       "      <td>1786148</td>\n",
       "      <td>2019-10-19T11:25:42.444-0400</td>\n",
       "      <td>1748830</td>\n",
       "      <td>1</td>\n",
       "    </tr>\n",
       "    <tr>\n",
       "      <th>1</th>\n",
       "      <td>0</td>\n",
       "      <td>1786148</td>\n",
       "      <td>2019-10-19T11:25:57.487-0400</td>\n",
       "      <td>1748830</td>\n",
       "      <td>1</td>\n",
       "    </tr>\n",
       "    <tr>\n",
       "      <th>2</th>\n",
       "      <td>0</td>\n",
       "      <td>RELOGIO SMARTWATCH</td>\n",
       "      <td>2019-10-19T11:26:07.063-0400</td>\n",
       "      <td>1748830</td>\n",
       "      <td>0</td>\n",
       "    </tr>\n",
       "    <tr>\n",
       "      <th>3</th>\n",
       "      <td>0</td>\n",
       "      <td>1615991</td>\n",
       "      <td>2019-10-19T11:27:26.879-0400</td>\n",
       "      <td>1748830</td>\n",
       "      <td>1</td>\n",
       "    </tr>\n",
       "    <tr>\n",
       "      <th>4</th>\n",
       "      <td>0</td>\n",
       "      <td>1615991</td>\n",
       "      <td>2019-10-19T11:28:36.558-0400</td>\n",
       "      <td>1748830</td>\n",
       "      <td>1</td>\n",
       "    </tr>\n",
       "  </tbody>\n",
       "</table>\n",
       "</div>"
      ],
      "text/plain": [
       "   user_id          event_info                    event_time  item_bought  \\\n",
       "0        0             1786148  2019-10-19T11:25:42.444-0400      1748830   \n",
       "1        0             1786148  2019-10-19T11:25:57.487-0400      1748830   \n",
       "2        0  RELOGIO SMARTWATCH  2019-10-19T11:26:07.063-0400      1748830   \n",
       "3        0             1615991  2019-10-19T11:27:26.879-0400      1748830   \n",
       "4        0             1615991  2019-10-19T11:28:36.558-0400      1748830   \n",
       "\n",
       "   view  \n",
       "0     1  \n",
       "1     1  \n",
       "2     0  \n",
       "3     1  \n",
       "4     1  "
      ]
     },
     "execution_count": 17,
     "metadata": {},
     "output_type": "execute_result"
    }
   ],
   "source": [
    "data = pd.concat([data, pd.get_dummies(data.event_type, drop_first=True)], axis=1)\n",
    "data.drop('event_type', axis=1, inplace=True)\n",
    "data.head()"
   ]
  },
  {
   "cell_type": "code",
   "execution_count": 19,
   "metadata": {},
   "outputs": [],
   "source": [
    "data['time'] = pd.to_datetime(data.event_time, infer_datetime_format=True)\n",
    "data.drop('event_time', axis=1, inplace=True)"
   ]
  },
  {
   "cell_type": "code",
   "execution_count": 20,
   "metadata": {},
   "outputs": [
    {
     "name": "stdout",
     "output_type": "stream",
     "text": [
      "<class 'pandas.core.frame.DataFrame'>\n",
      "RangeIndex: 11999166 entries, 0 to 11999165\n",
      "Data columns (total 5 columns):\n",
      " #   Column       Dtype                                 \n",
      "---  ------       -----                                 \n",
      " 0   user_id      int32                                 \n",
      " 1   event_info   object                                \n",
      " 2   item_bought  int32                                 \n",
      " 3   view         uint8                                 \n",
      " 4   time         datetime64[ns, pytz.FixedOffset(-240)]\n",
      "dtypes: datetime64[ns, pytz.FixedOffset(-240)](1), int32(2), object(1), uint8(1)\n",
      "memory usage: 286.1+ MB\n"
     ]
    }
   ],
   "source": [
    "data.info()"
   ]
  },
  {
   "cell_type": "code",
   "execution_count": 21,
   "metadata": {},
   "outputs": [],
   "source": [
    "users_counts = data.user_id.value_counts()"
   ]
  },
  {
   "cell_type": "code",
   "execution_count": 22,
   "metadata": {},
   "outputs": [
    {
     "data": {
      "image/png": "[encoded data removed]",
      "text/plain": [
       "<Figure size 432x288 with 1 Axes>"
      ]
     },
     "metadata": {},
     "output_type": "display_data"
    }
   ],
   "source": [
    "plt.hist(x=users_counts.values, bins=100);"
   ]
  },
  {
   "cell_type": "code",
   "execution_count": 23,
   "metadata": {},
   "outputs": [
    {
     "data": {
      "image/png": "[encoded data removed]",
      "text/plain": [
       "<Figure size 1440x720 with 1 Axes>"
      ]
     },
     "metadata": {},
     "output_type": "display_data"
    }
   ],
   "source": [
    "plt.figure(figsize=(20,10))\n",
    "plt.scatter(users_counts.index, users_counts.values);"
   ]
  },
  {
   "cell_type": "code",
   "execution_count": 24,
   "metadata": {},
   "outputs": [
    {
     "data": {
      "image/png": "[encoded data removed]",
      "text/plain": [
       "<Figure size 432x288 with 1 Axes>"
      ]
     },
     "metadata": {},
     "output_type": "display_data"
    }
   ],
   "source": [
    "sns.boxplot(x=users_counts.values);"
   ]
  },
  {
   "cell_type": "code",
   "execution_count": 25,
   "metadata": {},
   "outputs": [
    {
     "data": {
      "text/plain": [
       "count   413163.00\n",
       "mean        29.04\n",
       "std         36.28\n",
       "min          1.00\n",
       "25%          5.00\n",
       "50%         16.00\n",
       "75%         39.00\n",
       "max        566.00\n",
       "Name: user_id, dtype: float64"
      ]
     },
     "execution_count": 25,
     "metadata": {},
     "output_type": "execute_result"
    }
   ],
   "source": [
    "users_counts.describe()"
   ]
  },
  {
   "cell_type": "code",
   "execution_count": 26,
   "metadata": {},
   "outputs": [
    {
     "data": {
      "text/plain": [
       "0          2019-10-19 11:25:42.444000-04:00\n",
       "1          2019-10-19 11:25:57.487000-04:00\n",
       "2          2019-10-19 11:26:07.063000-04:00\n",
       "3          2019-10-19 11:27:26.879000-04:00\n",
       "4          2019-10-19 11:28:36.558000-04:00\n",
       "                         ...               \n",
       "11999161   2019-10-04 08:34:56.361000-04:00\n",
       "11999162   2019-10-07 10:49:32.217000-04:00\n",
       "11999163   2019-10-07 10:52:21.825000-04:00\n",
       "11999164   2019-10-07 10:53:07.399000-04:00\n",
       "11999165   2019-10-07 10:55:32.393000-04:00\n",
       "Name: time, Length: 11999166, dtype: datetime64[ns, pytz.FixedOffset(-240)]"
      ]
     },
     "execution_count": 26,
     "metadata": {},
     "output_type": "execute_result"
    }
   ],
   "source": [
    "data.time"
   ]
  },
  {
   "cell_type": "code",
   "execution_count": 27,
   "metadata": {},
   "outputs": [],
   "source": [
    "data['year'] = pd.DatetimeIndex(data.time).year\n",
    "data['month'] = pd.DatetimeIndex(data.time).month\n",
    "data['day'] = pd.DatetimeIndex(data.time).day"
   ]
  },
  {
   "cell_type": "code",
   "execution_count": 28,
   "metadata": {},
   "outputs": [
    {
     "data": {
      "text/html": [
       "<div>\n",
       "<style scoped>\n",
       "    .dataframe tbody tr th:only-of-type {\n",
       "        vertical-align: middle;\n",
       "    }\n",
       "\n",
       "    .dataframe tbody tr th {\n",
       "        vertical-align: top;\n",
       "    }\n",
       "\n",
       "    .dataframe thead th {\n",
       "        text-align: right;\n",
       "    }\n",
       "</style>\n",
       "<table border=\"1\" class=\"dataframe\">\n",
       "  <thead>\n",
       "    <tr style=\"text-align: right;\">\n",
       "      <th></th>\n",
       "      <th>user_id</th>\n",
       "      <th>event_info</th>\n",
       "      <th>item_bought</th>\n",
       "      <th>view</th>\n",
       "      <th>time</th>\n",
       "      <th>year</th>\n",
       "      <th>month</th>\n",
       "      <th>day</th>\n",
       "    </tr>\n",
       "  </thead>\n",
       "  <tbody>\n",
       "    <tr>\n",
       "      <th>0</th>\n",
       "      <td>0</td>\n",
       "      <td>1786148</td>\n",
       "      <td>1748830</td>\n",
       "      <td>1</td>\n",
       "      <td>2019-10-19 11:25:42.444000-04:00</td>\n",
       "      <td>2019</td>\n",
       "      <td>10</td>\n",
       "      <td>19</td>\n",
       "    </tr>\n",
       "    <tr>\n",
       "      <th>1</th>\n",
       "      <td>0</td>\n",
       "      <td>1786148</td>\n",
       "      <td>1748830</td>\n",
       "      <td>1</td>\n",
       "      <td>2019-10-19 11:25:57.487000-04:00</td>\n",
       "      <td>2019</td>\n",
       "      <td>10</td>\n",
       "      <td>19</td>\n",
       "    </tr>\n",
       "    <tr>\n",
       "      <th>2</th>\n",
       "      <td>0</td>\n",
       "      <td>RELOGIO SMARTWATCH</td>\n",
       "      <td>1748830</td>\n",
       "      <td>0</td>\n",
       "      <td>2019-10-19 11:26:07.063000-04:00</td>\n",
       "      <td>2019</td>\n",
       "      <td>10</td>\n",
       "      <td>19</td>\n",
       "    </tr>\n",
       "    <tr>\n",
       "      <th>3</th>\n",
       "      <td>0</td>\n",
       "      <td>1615991</td>\n",
       "      <td>1748830</td>\n",
       "      <td>1</td>\n",
       "      <td>2019-10-19 11:27:26.879000-04:00</td>\n",
       "      <td>2019</td>\n",
       "      <td>10</td>\n",
       "      <td>19</td>\n",
       "    </tr>\n",
       "    <tr>\n",
       "      <th>4</th>\n",
       "      <td>0</td>\n",
       "      <td>1615991</td>\n",
       "      <td>1748830</td>\n",
       "      <td>1</td>\n",
       "      <td>2019-10-19 11:28:36.558000-04:00</td>\n",
       "      <td>2019</td>\n",
       "      <td>10</td>\n",
       "      <td>19</td>\n",
       "    </tr>\n",
       "  </tbody>\n",
       "</table>\n",
       "</div>"
      ],
      "text/plain": [
       "   user_id          event_info  item_bought  view  \\\n",
       "0        0             1786148      1748830     1   \n",
       "1        0             1786148      1748830     1   \n",
       "2        0  RELOGIO SMARTWATCH      1748830     0   \n",
       "3        0             1615991      1748830     1   \n",
       "4        0             1615991      1748830     1   \n",
       "\n",
       "                              time  year  month  day  \n",
       "0 2019-10-19 11:25:42.444000-04:00  2019     10   19  \n",
       "1 2019-10-19 11:25:57.487000-04:00  2019     10   19  \n",
       "2 2019-10-19 11:26:07.063000-04:00  2019     10   19  \n",
       "3 2019-10-19 11:27:26.879000-04:00  2019     10   19  \n",
       "4 2019-10-19 11:28:36.558000-04:00  2019     10   19  "
      ]
     },
     "execution_count": 28,
     "metadata": {},
     "output_type": "execute_result"
    }
   ],
   "source": [
    "data.head()"
   ]
  },
  {
   "cell_type": "code",
   "execution_count": 29,
   "metadata": {},
   "outputs": [
    {
     "name": "stdout",
     "output_type": "stream",
     "text": [
      "<class 'pandas.core.frame.DataFrame'>\n",
      "RangeIndex: 11999166 entries, 0 to 11999165\n",
      "Data columns (total 8 columns):\n",
      " #   Column       Dtype                                 \n",
      "---  ------       -----                                 \n",
      " 0   user_id      int32                                 \n",
      " 1   event_info   object                                \n",
      " 2   item_bought  int32                                 \n",
      " 3   view         uint8                                 \n",
      " 4   time         datetime64[ns, pytz.FixedOffset(-240)]\n",
      " 5   year         int64                                 \n",
      " 6   month        int64                                 \n",
      " 7   day          int64                                 \n",
      "dtypes: datetime64[ns, pytz.FixedOffset(-240)](1), int32(2), int64(3), object(1), uint8(1)\n",
      "memory usage: 560.7+ MB\n"
     ]
    }
   ],
   "source": [
    "data.info()"
   ]
  },
  {
   "cell_type": "code",
   "execution_count": 31,
   "metadata": {},
   "outputs": [],
   "source": [
    "data['year'] = data.year.astype(np.int16)\n",
    "data['month'] = data.month.astype(np.int16)\n",
    "data['day'] = data.day.astype(np.int16)"
   ]
  },
  {
   "cell_type": "code",
   "execution_count": 32,
   "metadata": {},
   "outputs": [
    {
     "name": "stdout",
     "output_type": "stream",
     "text": [
      "<class 'pandas.core.frame.DataFrame'>\n",
      "RangeIndex: 11999166 entries, 0 to 11999165\n",
      "Data columns (total 8 columns):\n",
      " #   Column       Dtype                                 \n",
      "---  ------       -----                                 \n",
      " 0   user_id      int32                                 \n",
      " 1   event_info   object                                \n",
      " 2   item_bought  int32                                 \n",
      " 3   view         uint8                                 \n",
      " 4   time         datetime64[ns, pytz.FixedOffset(-240)]\n",
      " 5   year         int16                                 \n",
      " 6   month        int16                                 \n",
      " 7   day          int16                                 \n",
      "dtypes: datetime64[ns, pytz.FixedOffset(-240)](1), int16(3), int32(2), object(1), uint8(1)\n",
      "memory usage: 354.7+ MB\n"
     ]
    }
   ],
   "source": [
    "data.info()"
   ]
  },
  {
   "cell_type": "code",
   "execution_count": 35,
   "metadata": {},
   "outputs": [
    {
     "data": {
      "text/plain": [
       "count   11999166.00\n",
       "mean        2019.00\n",
       "std            0.00\n",
       "min         2019.00\n",
       "25%         2019.00\n",
       "50%         2019.00\n",
       "75%         2019.00\n",
       "max         2019.00\n",
       "Name: year, dtype: float64"
      ]
     },
     "execution_count": 35,
     "metadata": {},
     "output_type": "execute_result"
    }
   ],
   "source": [
    "data.year.describe()"
   ]
  },
  {
   "cell_type": "code",
   "execution_count": 36,
   "metadata": {},
   "outputs": [
    {
     "data": {
      "text/plain": [
       "count   11999166.00\n",
       "mean          14.73\n",
       "std            9.40\n",
       "min            1.00\n",
       "25%            6.00\n",
       "50%           14.00\n",
       "75%           23.00\n",
       "max           31.00\n",
       "Name: day, dtype: float64"
      ]
     },
     "execution_count": 36,
     "metadata": {},
     "output_type": "execute_result"
    }
   ],
   "source": [
    "data.day.describe()"
   ]
  },
  {
   "cell_type": "code",
   "execution_count": 87,
   "metadata": {},
   "outputs": [
    {
     "name": "stderr",
     "output_type": "stream",
     "text": [
      "Treating datetime data as categorical rather than numeric in `.describe` is deprecated and will be removed in a future version of pandas. Specify `datetime_is_numeric=True` to silence this warning and adopt the future behavior now.\n"
     ]
    },
    {
     "data": {
      "text/plain": [
       "count                             11999166\n",
       "unique                            11964607\n",
       "top       2019-10-03 17:41:01.709000-04:00\n",
       "freq                                     4\n",
       "first     2019-09-24 07:41:04.596000-04:00\n",
       "last      2019-10-31 20:19:14.525000-04:00\n",
       "Name: time, dtype: object"
      ]
     },
     "execution_count": 87,
     "metadata": {},
     "output_type": "execute_result"
    }
   ],
   "source": [
    "data.time.describe()"
   ]
  },
  {
   "cell_type": "code",
   "execution_count": 83,
   "metadata": {},
   "outputs": [
    {
     "data": {
      "text/html": [
       "<div>\n",
       "<style scoped>\n",
       "    .dataframe tbody tr th:only-of-type {\n",
       "        vertical-align: middle;\n",
       "    }\n",
       "\n",
       "    .dataframe tbody tr th {\n",
       "        vertical-align: top;\n",
       "    }\n",
       "\n",
       "    .dataframe thead th {\n",
       "        text-align: right;\n",
       "    }\n",
       "</style>\n",
       "<table border=\"1\" class=\"dataframe\">\n",
       "  <thead>\n",
       "    <tr style=\"text-align: right;\">\n",
       "      <th></th>\n",
       "      <th>year</th>\n",
       "      <th>month</th>\n",
       "      <th>day</th>\n",
       "      <th>item_bought</th>\n",
       "    </tr>\n",
       "  </thead>\n",
       "  <tbody>\n",
       "    <tr>\n",
       "      <th>0</th>\n",
       "      <td>2019</td>\n",
       "      <td>9</td>\n",
       "      <td>24</td>\n",
       "      <td>21459</td>\n",
       "    </tr>\n",
       "    <tr>\n",
       "      <th>1</th>\n",
       "      <td>2019</td>\n",
       "      <td>9</td>\n",
       "      <td>25</td>\n",
       "      <td>99422</td>\n",
       "    </tr>\n",
       "    <tr>\n",
       "      <th>2</th>\n",
       "      <td>2019</td>\n",
       "      <td>9</td>\n",
       "      <td>26</td>\n",
       "      <td>195824</td>\n",
       "    </tr>\n",
       "    <tr>\n",
       "      <th>3</th>\n",
       "      <td>2019</td>\n",
       "      <td>9</td>\n",
       "      <td>27</td>\n",
       "      <td>250618</td>\n",
       "    </tr>\n",
       "    <tr>\n",
       "      <th>4</th>\n",
       "      <td>2019</td>\n",
       "      <td>9</td>\n",
       "      <td>28</td>\n",
       "      <td>294894</td>\n",
       "    </tr>\n",
       "  </tbody>\n",
       "</table>\n",
       "</div>"
      ],
      "text/plain": [
       "   year  month  day  item_bought\n",
       "0  2019      9   24        21459\n",
       "1  2019      9   25        99422\n",
       "2  2019      9   26       195824\n",
       "3  2019      9   27       250618\n",
       "4  2019      9   28       294894"
      ]
     },
     "execution_count": 83,
     "metadata": {},
     "output_type": "execute_result"
    }
   ],
   "source": [
    "gb = data[['year', 'month', 'day', 'item_bought']].groupby(['year', 'month', 'day'], as_index=False).count()\n",
    "gb.head()"
   ]
  },
  {
   "cell_type": "code",
   "execution_count": 85,
   "metadata": {},
   "outputs": [
    {
     "data": {
      "image/png": "[encoded data removed]",
      "text/plain": [
       "<Figure size 432x288 with 1 Axes>"
      ]
     },
     "metadata": {},
     "output_type": "display_data"
    }
   ],
   "source": [
    "plt.plot(gb.index, gb.item_bought);"
   ]
  },
  {
   "cell_type": "code",
   "execution_count": 88,
   "metadata": {},
   "outputs": [
    {
     "data": {
      "text/plain": [
       "1055911"
      ]
     },
     "execution_count": 88,
     "metadata": {},
     "output_type": "execute_result"
    }
   ],
   "source": [
    "del gb\n",
    "gc.collect()"
   ]
  },
  {
   "cell_type": "code",
   "execution_count": null,
   "metadata": {},
   "outputs": [],
   "source": [
    "data.to_csv('/home/tuts/datasets/meli-challenge-2020/complete_data_with_time.csv', index=False)"
   ]
  },
  {
   "cell_type": "code",
   "execution_count": 90,
   "metadata": {},
   "outputs": [
    {
     "data": {
      "text/plain": [
       "49"
      ]
     },
     "execution_count": 90,
     "metadata": {},
     "output_type": "execute_result"
    }
   ],
   "source": [
    "del data\n",
    "gc.collect()"
   ]
  },
  {
   "cell_type": "code",
   "execution_count": 37,
   "metadata": {},
   "outputs": [
    {
     "data": {
      "text/html": [
       "<div>\n",
       "<style scoped>\n",
       "    .dataframe tbody tr th:only-of-type {\n",
       "        vertical-align: middle;\n",
       "    }\n",
       "\n",
       "    .dataframe tbody tr th {\n",
       "        vertical-align: top;\n",
       "    }\n",
       "\n",
       "    .dataframe thead th {\n",
       "        text-align: right;\n",
       "    }\n",
       "</style>\n",
       "<table border=\"1\" class=\"dataframe\">\n",
       "  <thead>\n",
       "    <tr style=\"text-align: right;\">\n",
       "      <th></th>\n",
       "      <th>user_id</th>\n",
       "      <th>event_info</th>\n",
       "      <th>item_bought</th>\n",
       "      <th>view</th>\n",
       "      <th>time</th>\n",
       "      <th>year</th>\n",
       "      <th>month</th>\n",
       "      <th>day</th>\n",
       "    </tr>\n",
       "  </thead>\n",
       "  <tbody>\n",
       "    <tr>\n",
       "      <th>0</th>\n",
       "      <td>0</td>\n",
       "      <td>1786148</td>\n",
       "      <td>1748830</td>\n",
       "      <td>1</td>\n",
       "      <td>2019-10-19 11:25:42.444000-04:00</td>\n",
       "      <td>2019</td>\n",
       "      <td>10</td>\n",
       "      <td>19</td>\n",
       "    </tr>\n",
       "    <tr>\n",
       "      <th>1</th>\n",
       "      <td>0</td>\n",
       "      <td>1786148</td>\n",
       "      <td>1748830</td>\n",
       "      <td>1</td>\n",
       "      <td>2019-10-19 11:25:57.487000-04:00</td>\n",
       "      <td>2019</td>\n",
       "      <td>10</td>\n",
       "      <td>19</td>\n",
       "    </tr>\n",
       "    <tr>\n",
       "      <th>2</th>\n",
       "      <td>0</td>\n",
       "      <td>RELOGIO SMARTWATCH</td>\n",
       "      <td>1748830</td>\n",
       "      <td>0</td>\n",
       "      <td>2019-10-19 11:26:07.063000-04:00</td>\n",
       "      <td>2019</td>\n",
       "      <td>10</td>\n",
       "      <td>19</td>\n",
       "    </tr>\n",
       "    <tr>\n",
       "      <th>3</th>\n",
       "      <td>0</td>\n",
       "      <td>1615991</td>\n",
       "      <td>1748830</td>\n",
       "      <td>1</td>\n",
       "      <td>2019-10-19 11:27:26.879000-04:00</td>\n",
       "      <td>2019</td>\n",
       "      <td>10</td>\n",
       "      <td>19</td>\n",
       "    </tr>\n",
       "    <tr>\n",
       "      <th>4</th>\n",
       "      <td>0</td>\n",
       "      <td>1615991</td>\n",
       "      <td>1748830</td>\n",
       "      <td>1</td>\n",
       "      <td>2019-10-19 11:28:36.558000-04:00</td>\n",
       "      <td>2019</td>\n",
       "      <td>10</td>\n",
       "      <td>19</td>\n",
       "    </tr>\n",
       "  </tbody>\n",
       "</table>\n",
       "</div>"
      ],
      "text/plain": [
       "   user_id          event_info  item_bought  view  \\\n",
       "0        0             1786148      1748830     1   \n",
       "1        0             1786148      1748830     1   \n",
       "2        0  RELOGIO SMARTWATCH      1748830     0   \n",
       "3        0             1615991      1748830     1   \n",
       "4        0             1615991      1748830     1   \n",
       "\n",
       "                              time  year  month  day  \n",
       "0 2019-10-19 11:25:42.444000-04:00  2019     10   19  \n",
       "1 2019-10-19 11:25:57.487000-04:00  2019     10   19  \n",
       "2 2019-10-19 11:26:07.063000-04:00  2019     10   19  \n",
       "3 2019-10-19 11:27:26.879000-04:00  2019     10   19  \n",
       "4 2019-10-19 11:28:36.558000-04:00  2019     10   19  "
      ]
     },
     "execution_count": 37,
     "metadata": {},
     "output_type": "execute_result"
    }
   ],
   "source": [
    "data.head()"
   ]
  },
  {
   "cell_type": "code",
   "execution_count": null,
   "metadata": {},
   "outputs": [],
   "source": []
  }
 ],
 "metadata": {
  "kernelspec": {
   "display_name": "Python 3",
   "language": "python",
   "name": "python3"
  },
  "language_info": {
   "codemirror_mode": {
    "name": "ipython",
    "version": 3
   },
   "file_extension": ".py",
   "mimetype": "text/x-python",
   "name": "python",
   "nbconvert_exporter": "python",
   "pygments_lexer": "ipython3",
   "version": "3.8.5"
  }
 },
 "nbformat": 4,
 "nbformat_minor": 4
}
