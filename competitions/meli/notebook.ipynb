{
 "cells": [
  {
   "cell_type": "code",
   "execution_count": 1,
   "metadata": {},
   "outputs": [],
   "source": [
    "%store -r import_all_libs"
   ]
  },
  {
   "cell_type": "code",
   "execution_count": 2,
   "metadata": {},
   "outputs": [],
   "source": [
    "import_all_libs"
   ]
  },
  {
   "cell_type": "markdown",
   "metadata": {},
   "source": [
    "# Read data"
   ]
  },
  {
   "cell_type": "code",
   "execution_count": 7,
   "metadata": {},
   "outputs": [],
   "source": [
    "dtype = {\n",
    "    'user_id': 'int32',\n",
    "    'event_info': 'object',\n",
    "    'event_time': 'object',\n",
    "    'event_type': 'object',\n",
    "    'item_bought': 'int32',\n",
    "    'year': 'int16',\n",
    "    'month': 'int16',\n",
    "    'day': 'int16'\n",
    "}"
   ]
  },
  {
   "cell_type": "code",
   "execution_count": 9,
   "metadata": {},
   "outputs": [],
   "source": [
    "df = pd.read_csv('/home/tuts/datasets/meli-challenge-2020/complete_data_with_time.csv', dtype=dtype)"
   ]
  },
  {
   "cell_type": "code",
   "execution_count": null,
   "metadata": {},
   "outputs": [],
   "source": [
    "pd.read_csv('/home/tuts/datasets/meli-challenge-2020/')"
   ]
  },
  {
   "cell_type": "code",
   "execution_count": 10,
   "metadata": {},
   "outputs": [
    {
     "data": {
      "text/html": [
       "<div>\n",
       "<style scoped>\n",
       "    .dataframe tbody tr th:only-of-type {\n",
       "        vertical-align: middle;\n",
       "    }\n",
       "\n",
       "    .dataframe tbody tr th {\n",
       "        vertical-align: top;\n",
       "    }\n",
       "\n",
       "    .dataframe thead th {\n",
       "        text-align: right;\n",
       "    }\n",
       "</style>\n",
       "<table border=\"1\" class=\"dataframe\">\n",
       "  <thead>\n",
       "    <tr style=\"text-align: right;\">\n",
       "      <th></th>\n",
       "      <th>user_id</th>\n",
       "      <th>event_info</th>\n",
       "      <th>item_bought</th>\n",
       "      <th>view</th>\n",
       "      <th>time</th>\n",
       "      <th>year</th>\n",
       "      <th>month</th>\n",
       "      <th>day</th>\n",
       "    </tr>\n",
       "  </thead>\n",
       "  <tbody>\n",
       "    <tr>\n",
       "      <th>0</th>\n",
       "      <td>0</td>\n",
       "      <td>1786148</td>\n",
       "      <td>1748830</td>\n",
       "      <td>1</td>\n",
       "      <td>2019-10-19 11:25:42.444000-04:00</td>\n",
       "      <td>2019</td>\n",
       "      <td>10</td>\n",
       "      <td>19</td>\n",
       "    </tr>\n",
       "    <tr>\n",
       "      <th>1</th>\n",
       "      <td>0</td>\n",
       "      <td>1786148</td>\n",
       "      <td>1748830</td>\n",
       "      <td>1</td>\n",
       "      <td>2019-10-19 11:25:57.487000-04:00</td>\n",
       "      <td>2019</td>\n",
       "      <td>10</td>\n",
       "      <td>19</td>\n",
       "    </tr>\n",
       "    <tr>\n",
       "      <th>2</th>\n",
       "      <td>0</td>\n",
       "      <td>RELOGIO SMARTWATCH</td>\n",
       "      <td>1748830</td>\n",
       "      <td>0</td>\n",
       "      <td>2019-10-19 11:26:07.063000-04:00</td>\n",
       "      <td>2019</td>\n",
       "      <td>10</td>\n",
       "      <td>19</td>\n",
       "    </tr>\n",
       "    <tr>\n",
       "      <th>3</th>\n",
       "      <td>0</td>\n",
       "      <td>1615991</td>\n",
       "      <td>1748830</td>\n",
       "      <td>1</td>\n",
       "      <td>2019-10-19 11:27:26.879000-04:00</td>\n",
       "      <td>2019</td>\n",
       "      <td>10</td>\n",
       "      <td>19</td>\n",
       "    </tr>\n",
       "    <tr>\n",
       "      <th>4</th>\n",
       "      <td>0</td>\n",
       "      <td>1615991</td>\n",
       "      <td>1748830</td>\n",
       "      <td>1</td>\n",
       "      <td>2019-10-19 11:28:36.558000-04:00</td>\n",
       "      <td>2019</td>\n",
       "      <td>10</td>\n",
       "      <td>19</td>\n",
       "    </tr>\n",
       "  </tbody>\n",
       "</table>\n",
       "</div>"
      ],
      "text/plain": [
       "   user_id          event_info  item_bought  view  \\\n",
       "0        0             1786148      1748830     1   \n",
       "1        0             1786148      1748830     1   \n",
       "2        0  RELOGIO SMARTWATCH      1748830     0   \n",
       "3        0             1615991      1748830     1   \n",
       "4        0             1615991      1748830     1   \n",
       "\n",
       "                               time  year  month  day  \n",
       "0  2019-10-19 11:25:42.444000-04:00  2019     10   19  \n",
       "1  2019-10-19 11:25:57.487000-04:00  2019     10   19  \n",
       "2  2019-10-19 11:26:07.063000-04:00  2019     10   19  \n",
       "3  2019-10-19 11:27:26.879000-04:00  2019     10   19  \n",
       "4  2019-10-19 11:28:36.558000-04:00  2019     10   19  "
      ]
     },
     "execution_count": 10,
     "metadata": {},
     "output_type": "execute_result"
    }
   ],
   "source": [
    "df.head()"
   ]
  },
  {
   "cell_type": "code",
   "execution_count": 11,
   "metadata": {},
   "outputs": [
    {
     "name": "stdout",
     "output_type": "stream",
     "text": [
      "<class 'pandas.core.frame.DataFrame'>\n",
      "RangeIndex: 6937482 entries, 0 to 6937481\n",
      "Data columns (total 8 columns):\n",
      " #   Column       Dtype \n",
      "---  ------       ----- \n",
      " 0   user_id      int32 \n",
      " 1   event_info   object\n",
      " 2   item_bought  int32 \n",
      " 3   view         int64 \n",
      " 4   time         object\n",
      " 5   year         int16 \n",
      " 6   month        int16 \n",
      " 7   day          int16 \n",
      "dtypes: int16(3), int32(2), int64(1), object(2)\n",
      "memory usage: 251.4+ MB\n"
     ]
    }
   ],
   "source": [
    "df.info()"
   ]
  },
  {
   "cell_type": "code",
   "execution_count": 21,
   "metadata": {},
   "outputs": [
    {
     "name": "stdout",
     "output_type": "stream",
     "text": [
      "Start 2019-09-24 07:41:04.596000-04:00\n",
      "End 2019-10-31 20:19:14.525000-04:00\n"
     ]
    }
   ],
   "source": [
    "print(f'Start {df.time.min()}')\n",
    "print(f'End {df.time.max()}')"
   ]
  },
  {
   "cell_type": "code",
   "execution_count": 16,
   "metadata": {},
   "outputs": [
    {
     "data": {
      "text/html": [
       "<div>\n",
       "<style scoped>\n",
       "    .dataframe tbody tr th:only-of-type {\n",
       "        vertical-align: middle;\n",
       "    }\n",
       "\n",
       "    .dataframe tbody tr th {\n",
       "        vertical-align: top;\n",
       "    }\n",
       "\n",
       "    .dataframe thead th {\n",
       "        text-align: right;\n",
       "    }\n",
       "</style>\n",
       "<table border=\"1\" class=\"dataframe\">\n",
       "  <thead>\n",
       "    <tr style=\"text-align: right;\">\n",
       "      <th></th>\n",
       "      <th>year</th>\n",
       "      <th>month</th>\n",
       "      <th>day</th>\n",
       "      <th>item_bought</th>\n",
       "    </tr>\n",
       "  </thead>\n",
       "  <tbody>\n",
       "    <tr>\n",
       "      <th>0</th>\n",
       "      <td>2019</td>\n",
       "      <td>9</td>\n",
       "      <td>24</td>\n",
       "      <td>12967</td>\n",
       "    </tr>\n",
       "    <tr>\n",
       "      <th>1</th>\n",
       "      <td>2019</td>\n",
       "      <td>9</td>\n",
       "      <td>25</td>\n",
       "      <td>58611</td>\n",
       "    </tr>\n",
       "    <tr>\n",
       "      <th>2</th>\n",
       "      <td>2019</td>\n",
       "      <td>9</td>\n",
       "      <td>26</td>\n",
       "      <td>114529</td>\n",
       "    </tr>\n",
       "    <tr>\n",
       "      <th>3</th>\n",
       "      <td>2019</td>\n",
       "      <td>9</td>\n",
       "      <td>27</td>\n",
       "      <td>146783</td>\n",
       "    </tr>\n",
       "    <tr>\n",
       "      <th>4</th>\n",
       "      <td>2019</td>\n",
       "      <td>9</td>\n",
       "      <td>28</td>\n",
       "      <td>167117</td>\n",
       "    </tr>\n",
       "  </tbody>\n",
       "</table>\n",
       "</div>"
      ],
      "text/plain": [
       "   year  month  day  item_bought\n",
       "0  2019      9   24        12967\n",
       "1  2019      9   25        58611\n",
       "2  2019      9   26       114529\n",
       "3  2019      9   27       146783\n",
       "4  2019      9   28       167117"
      ]
     },
     "execution_count": 16,
     "metadata": {},
     "output_type": "execute_result"
    }
   ],
   "source": [
    "gb = df[['year', 'month', 'day', 'item_bought']].groupby(['year', 'month', 'day'], as_index=False).count()\n",
    "gb.head()"
   ]
  },
  {
   "cell_type": "code",
   "execution_count": 20,
   "metadata": {},
   "outputs": [
    {
     "data": {
      "image/png": "[encoded data removed]",
      "text/plain": [
       "<Figure size 1440x720 with 1 Axes>"
      ]
     },
     "metadata": {},
     "output_type": "display_data"
    }
   ],
   "source": [
    "plt.figure(figsize=(20,10))\n",
    "plt.xticks(rotation=90)\n",
    "plt.plot(pd.to_datetime(gb[['year', 'month', 'day']]), gb.item_bought);"
   ]
  },
  {
   "cell_type": "code",
   "execution_count": 23,
   "metadata": {},
   "outputs": [
    {
     "data": {
      "text/plain": [
       "count     6937482\n",
       "unique      53422\n",
       "top       1587422\n",
       "freq         8556\n",
       "Name: item_bought, dtype: object"
      ]
     },
     "execution_count": 23,
     "metadata": {},
     "output_type": "execute_result"
    }
   ],
   "source": [
    "df.item_bought.astype('str').describe()"
   ]
  },
  {
   "cell_type": "code",
   "execution_count": 35,
   "metadata": {},
   "outputs": [
    {
     "data": {
      "text/plain": [
       "1393318      1\n",
       "1805390      1\n",
       "1326802      1\n",
       "300608       1\n",
       "1013713      1\n",
       "          ... \n",
       "548905     204\n",
       "716822     205\n",
       "10243      214\n",
       "1803710    217\n",
       "1587422    325\n",
       "Name: item_bought, Length: 53422, dtype: int64"
      ]
     },
     "execution_count": 35,
     "metadata": {},
     "output_type": "execute_result"
    }
   ],
   "source": [
    "gb_freq = df[['user_id', 'item_bought']].drop_duplicates()\n",
    "gb_freq['item_bought'] = gb_freq.item_bought.astype('str')\n",
    "gb_freq.item_bought.value_counts().sort_values()"
   ]
  },
  {
   "cell_type": "code",
   "execution_count": 36,
   "metadata": {},
   "outputs": [
    {
     "data": {
      "text/plain": [
       "1393318      1\n",
       "1805390      1\n",
       "1326802      1\n",
       "300608       1\n",
       "1013713      1\n",
       "          ... \n",
       "548905     204\n",
       "716822     205\n",
       "10243      214\n",
       "1803710    217\n",
       "1587422    325\n",
       "Name: item_bought, Length: 53422, dtype: int64"
      ]
     },
     "execution_count": 36,
     "metadata": {},
     "output_type": "execute_result"
    }
   ],
   "source": [
    "gb_freq.item_bought.value_counts().sort_values()"
   ]
  },
  {
   "cell_type": "code",
   "execution_count": 41,
   "metadata": {},
   "outputs": [
    {
     "data": {
      "text/plain": [
       "1361154    182\n",
       "1716388    187\n",
       "725371     187\n",
       "1906937    189\n",
       "1371799    195\n",
       "548905     204\n",
       "716822     205\n",
       "10243      214\n",
       "1803710    217\n",
       "1587422    325\n",
       "Name: item_bought, dtype: int64"
      ]
     },
     "execution_count": 41,
     "metadata": {},
     "output_type": "execute_result"
    }
   ],
   "source": [
    "item_freq = gb_freq.item_bought.value_counts().sort_values()\n",
    "item_freq.iloc[-10:]"
   ]
  },
  {
   "cell_type": "code",
   "execution_count": 42,
   "metadata": {},
   "outputs": [
    {
     "data": {
      "text/plain": [
       "238351"
      ]
     },
     "execution_count": 42,
     "metadata": {},
     "output_type": "execute_result"
    }
   ],
   "source": [
    "df.user_id.nunique()"
   ]
  },
  {
   "cell_type": "code",
   "execution_count": 59,
   "metadata": {},
   "outputs": [
    {
     "data": {
      "text/plain": [
       "['1361154',\n",
       " '1716388',\n",
       " '725371',\n",
       " '1906937',\n",
       " '1371799',\n",
       " '548905',\n",
       " '716822',\n",
       " '10243',\n",
       " '1803710',\n",
       " '1587422']"
      ]
     },
     "execution_count": 59,
     "metadata": {},
     "output_type": "execute_result"
    }
   ],
   "source": [
    "item_freq.iloc[-10:].index.to_list()"
   ]
  },
  {
   "cell_type": "code",
   "execution_count": 65,
   "metadata": {},
   "outputs": [],
   "source": [
    "top_10_freq_list = item_freq.iloc[-10:].index.to_list()\n",
    "top_10_freq_list.reverse()\n",
    "top_10_freq_list = [int(x) for x in top_10_freq_list]"
   ]
  },
  {
   "cell_type": "code",
   "execution_count": 71,
   "metadata": {},
   "outputs": [
    {
     "data": {
      "text/plain": [
       "'1587422,1803710,10243,716822,548905,1371799,1906937,725371,1716388,1361154'"
      ]
     },
     "execution_count": 71,
     "metadata": {},
     "output_type": "execute_result"
    }
   ],
   "source": [
    "str(top_10_freq_list)[1:-1].replace(' ', '')"
   ]
  },
  {
   "cell_type": "code",
   "execution_count": 76,
   "metadata": {},
   "outputs": [],
   "source": [
    "submission = open('/home/tuts/datasets/meli-challenge-2020/submission_top_10_21.csv', 'w')"
   ]
  },
  {
   "cell_type": "code",
   "execution_count": 77,
   "metadata": {},
   "outputs": [],
   "source": [
    "for user in range(177060):\n",
    "    submission.write(str(top_10_freq_list)[1:-1].replace(' ','')+'\\n')"
   ]
  },
  {
   "cell_type": "code",
   "execution_count": null,
   "metadata": {},
   "outputs": [],
   "source": [
    "gb_items = df[['user_id', 'item_bought']].groupby('user_id').count()"
   ]
  }
 ],
 "metadata": {
  "kernelspec": {
   "display_name": "Python 3",
   "language": "python",
   "name": "python3"
  },
  "language_info": {
   "codemirror_mode": {
    "name": "ipython",
    "version": 3
   },
   "file_extension": ".py",
   "mimetype": "text/x-python",
   "name": "python",
   "nbconvert_exporter": "python",
   "pygments_lexer": "ipython3",
   "version": "3.8.5"
  }
 },
 "nbformat": 4,
 "nbformat_minor": 4
}
